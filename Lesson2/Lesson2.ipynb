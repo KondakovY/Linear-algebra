{
 "cells": [
  {
   "cell_type": "code",
   "execution_count": 2,
   "id": "168bfeb2",
   "metadata": {},
   "outputs": [],
   "source": [
    "import numpy as np\n",
    "from numpy.linalg import norm"
   ]
  },
  {
   "cell_type": "markdown",
   "id": "a45aff52",
   "metadata": {},
   "source": [
    "__1.__ Установить, какие произведения матриц $AB$ и $BA$ определены, и найти размерности полученных матриц:\n",
    "\n",
    "   а) $A$ — матрица $4\\times 2$, $B$ — матрица $4\\times 2$;\n",
    "    \n",
    "   б) $A$ — матрица $2\\times 5$, $B$ — матрица $5\\times 3$;\n",
    "    \n",
    "   в) $A$ — матрица $8\\times 3$, $B$ — матрица $3\\times 8$;\n",
    "    \n",
    "   г) $A$ — квадратная матрица $4\\times 4$, $B$ — квадратная матрица $4\\times 4$.\n",
    "    "
   ]
  },
  {
   "cell_type": "markdown",
   "id": "150aa33a",
   "metadata": {},
   "source": [
    "Необходимо, чтобы число столбцов матрицы А было равно числу строк матрицы В."
   ]
  },
  {
   "cell_type": "markdown",
   "id": "37a6a959",
   "metadata": {},
   "source": [
    "$Вывод:$"
   ]
  },
  {
   "cell_type": "markdown",
   "id": "1a04a039",
   "metadata": {},
   "source": [
    "a) AB и BA не определены;"
   ]
  },
  {
   "cell_type": "markdown",
   "id": "bf9e06ab",
   "metadata": {},
   "source": [
    "б) AB - размерность 2x3, BA не определена;"
   ]
  },
  {
   "cell_type": "markdown",
   "id": "93fbfb37",
   "metadata": {},
   "source": [
    "в) AB размерность 8x8, BA размерность 3x3;"
   ]
  },
  {
   "cell_type": "markdown",
   "id": "8320d770",
   "metadata": {},
   "source": [
    "г) AB и BA размерность 4x4;"
   ]
  },
  {
   "cell_type": "markdown",
   "id": "7cc7eae3",
   "metadata": {},
   "source": [
    "а) A — матрица 4×2 , B — матрица 4×2:"
   ]
  },
  {
   "cell_type": "code",
   "execution_count": 3,
   "id": "d88d452d",
   "metadata": {},
   "outputs": [
    {
     "name": "stdout",
     "output_type": "stream",
     "text": [
      "Матрица A\n",
      "[[1. 1.]\n",
      " [1. 1.]\n",
      " [1. 1.]\n",
      " [1. 1.]]\n",
      "Матрица B\n",
      "[[1. 1.]\n",
      " [1. 1.]\n",
      " [1. 1.]\n",
      " [1. 1.]]\n"
     ]
    },
    {
     "ename": "ValueError",
     "evalue": "shapes (4,2) and (4,2) not aligned: 2 (dim 1) != 4 (dim 0)",
     "output_type": "error",
     "traceback": [
      "\u001b[1;31m---------------------------------------------------------------------------\u001b[0m",
      "\u001b[1;31mValueError\u001b[0m                                Traceback (most recent call last)",
      "\u001b[1;32m<ipython-input-3-2a91c352401a>\u001b[0m in \u001b[0;36m<module>\u001b[1;34m\u001b[0m\n\u001b[0;32m      3\u001b[0m \u001b[0mprint\u001b[0m\u001b[1;33m(\u001b[0m\u001b[1;34mf'Матрица A\\n{A}'\u001b[0m\u001b[1;33m)\u001b[0m\u001b[1;33m\u001b[0m\u001b[1;33m\u001b[0m\u001b[0m\n\u001b[0;32m      4\u001b[0m \u001b[0mprint\u001b[0m\u001b[1;33m(\u001b[0m\u001b[1;34mf'Матрица B\\n{B}'\u001b[0m\u001b[1;33m)\u001b[0m\u001b[1;33m\u001b[0m\u001b[1;33m\u001b[0m\u001b[0m\n\u001b[1;32m----> 5\u001b[1;33m \u001b[0mprint\u001b[0m\u001b[1;33m(\u001b[0m\u001b[1;34mf'Матрица AB\\n{np.dot(A, B)}'\u001b[0m\u001b[1;33m)\u001b[0m\u001b[1;33m\u001b[0m\u001b[1;33m\u001b[0m\u001b[0m\n\u001b[0m\u001b[0;32m      6\u001b[0m \u001b[0mprint\u001b[0m\u001b[1;33m(\u001b[0m\u001b[1;34mf'Матрица BA\\n{np.dot(B, A)}'\u001b[0m\u001b[1;33m)\u001b[0m\u001b[1;33m\u001b[0m\u001b[1;33m\u001b[0m\u001b[0m\n",
      "\u001b[1;32m<__array_function__ internals>\u001b[0m in \u001b[0;36mdot\u001b[1;34m(*args, **kwargs)\u001b[0m\n",
      "\u001b[1;31mValueError\u001b[0m: shapes (4,2) and (4,2) not aligned: 2 (dim 1) != 4 (dim 0)"
     ]
    }
   ],
   "source": [
    "A = np.ones((4,2))\n",
    "B = np.ones((4,2))\n",
    "print(f'Матрица A\\n{A}')\n",
    "print(f'Матрица B\\n{B}')\n",
    "print(f'Матрица AB\\n{np.dot(A, B)}')\n",
    "print(f'Матрица BA\\n{np.dot(B, A)}')"
   ]
  },
  {
   "cell_type": "markdown",
   "id": "a57ebdfe",
   "metadata": {},
   "source": [
    "б) A — матрица 2×5 , B — матрица 5×3:"
   ]
  },
  {
   "cell_type": "code",
   "execution_count": 4,
   "id": "65995ad3",
   "metadata": {},
   "outputs": [
    {
     "name": "stdout",
     "output_type": "stream",
     "text": [
      "Матрица A\n",
      "[[1. 1. 1. 1. 1.]\n",
      " [1. 1. 1. 1. 1.]]\n",
      "Матрица B\n",
      "[[1. 1. 1.]\n",
      " [1. 1. 1.]\n",
      " [1. 1. 1.]\n",
      " [1. 1. 1.]\n",
      " [1. 1. 1.]]\n",
      "Матрица AB\n",
      "[[5. 5. 5.]\n",
      " [5. 5. 5.]]\n"
     ]
    },
    {
     "ename": "ValueError",
     "evalue": "shapes (5,3) and (2,5) not aligned: 3 (dim 1) != 2 (dim 0)",
     "output_type": "error",
     "traceback": [
      "\u001b[1;31m---------------------------------------------------------------------------\u001b[0m",
      "\u001b[1;31mValueError\u001b[0m                                Traceback (most recent call last)",
      "\u001b[1;32m<ipython-input-4-7120d97b5d61>\u001b[0m in \u001b[0;36m<module>\u001b[1;34m\u001b[0m\n\u001b[0;32m      4\u001b[0m \u001b[0mprint\u001b[0m\u001b[1;33m(\u001b[0m\u001b[1;34mf'Матрица B\\n{B}'\u001b[0m\u001b[1;33m)\u001b[0m\u001b[1;33m\u001b[0m\u001b[1;33m\u001b[0m\u001b[0m\n\u001b[0;32m      5\u001b[0m \u001b[0mprint\u001b[0m\u001b[1;33m(\u001b[0m\u001b[1;34mf'Матрица AB\\n{np.dot(A, B)}'\u001b[0m\u001b[1;33m)\u001b[0m\u001b[1;33m\u001b[0m\u001b[1;33m\u001b[0m\u001b[0m\n\u001b[1;32m----> 6\u001b[1;33m \u001b[0mprint\u001b[0m\u001b[1;33m(\u001b[0m\u001b[1;34mf'Матрица BA\\n{np.dot(B, A)}'\u001b[0m\u001b[1;33m)\u001b[0m\u001b[1;33m\u001b[0m\u001b[1;33m\u001b[0m\u001b[0m\n\u001b[0m",
      "\u001b[1;32m<__array_function__ internals>\u001b[0m in \u001b[0;36mdot\u001b[1;34m(*args, **kwargs)\u001b[0m\n",
      "\u001b[1;31mValueError\u001b[0m: shapes (5,3) and (2,5) not aligned: 3 (dim 1) != 2 (dim 0)"
     ]
    }
   ],
   "source": [
    "A = np.ones((2,5))\n",
    "B = np.ones((5,3))\n",
    "print(f'Матрица A\\n{A}')\n",
    "print(f'Матрица B\\n{B}')\n",
    "print(f'Матрица AB\\n{np.dot(A, B)}')\n",
    "print(f'Матрица BA\\n{np.dot(B, A)}')"
   ]
  },
  {
   "cell_type": "markdown",
   "id": "8144a717",
   "metadata": {},
   "source": [
    "в) A — матрица 8×3 , B — матрица 3×8:"
   ]
  },
  {
   "cell_type": "code",
   "execution_count": 5,
   "id": "4255c35a",
   "metadata": {},
   "outputs": [
    {
     "name": "stdout",
     "output_type": "stream",
     "text": [
      "Матрица A\n",
      "[[1. 1. 1.]\n",
      " [1. 1. 1.]\n",
      " [1. 1. 1.]\n",
      " [1. 1. 1.]\n",
      " [1. 1. 1.]\n",
      " [1. 1. 1.]\n",
      " [1. 1. 1.]\n",
      " [1. 1. 1.]]\n",
      "Матрица B\n",
      "[[1. 1. 1. 1. 1. 1. 1. 1.]\n",
      " [1. 1. 1. 1. 1. 1. 1. 1.]\n",
      " [1. 1. 1. 1. 1. 1. 1. 1.]]\n",
      "Матрица AB\n",
      "[[3. 3. 3. 3. 3. 3. 3. 3.]\n",
      " [3. 3. 3. 3. 3. 3. 3. 3.]\n",
      " [3. 3. 3. 3. 3. 3. 3. 3.]\n",
      " [3. 3. 3. 3. 3. 3. 3. 3.]\n",
      " [3. 3. 3. 3. 3. 3. 3. 3.]\n",
      " [3. 3. 3. 3. 3. 3. 3. 3.]\n",
      " [3. 3. 3. 3. 3. 3. 3. 3.]\n",
      " [3. 3. 3. 3. 3. 3. 3. 3.]]\n",
      "Матрица BA\n",
      "[[8. 8. 8.]\n",
      " [8. 8. 8.]\n",
      " [8. 8. 8.]]\n"
     ]
    }
   ],
   "source": [
    "A = np.ones((8,3))\n",
    "B = np.ones((3,8))\n",
    "print(f'Матрица A\\n{A}')\n",
    "print(f'Матрица B\\n{B}')\n",
    "print(f'Матрица AB\\n{np.dot(A, B)}')\n",
    "print(f'Матрица BA\\n{np.dot(B, A)}')"
   ]
  },
  {
   "cell_type": "markdown",
   "id": "2f7fa0f3",
   "metadata": {},
   "source": [
    "г) A — квадратная матрица 4×4 , B — квадратная матрица 4×4:"
   ]
  },
  {
   "cell_type": "code",
   "execution_count": 6,
   "id": "fcb1638d",
   "metadata": {},
   "outputs": [
    {
     "name": "stdout",
     "output_type": "stream",
     "text": [
      "Матрица A\n",
      "[[1. 1. 1. 1.]\n",
      " [1. 1. 1. 1.]\n",
      " [1. 1. 1. 1.]\n",
      " [1. 1. 1. 1.]]\n",
      "Матрица B\n",
      "[[1. 1. 1. 1.]\n",
      " [1. 1. 1. 1.]\n",
      " [1. 1. 1. 1.]\n",
      " [1. 1. 1. 1.]]\n",
      "Матрица AB\n",
      "[[4. 4. 4. 4.]\n",
      " [4. 4. 4. 4.]\n",
      " [4. 4. 4. 4.]\n",
      " [4. 4. 4. 4.]]\n",
      "Матрица BA\n",
      "[[4. 4. 4. 4.]\n",
      " [4. 4. 4. 4.]\n",
      " [4. 4. 4. 4.]\n",
      " [4. 4. 4. 4.]]\n"
     ]
    }
   ],
   "source": [
    "A = np.ones((4,4))\n",
    "B = np.ones((4,4))\n",
    "print(f'Матрица A\\n{A}')\n",
    "print(f'Матрица B\\n{B}')\n",
    "print(f'Матрица AB\\n{np.dot(A, B)}')\n",
    "print(f'Матрица BA\\n{np.dot(B, A)}')"
   ]
  },
  {
   "cell_type": "markdown",
   "id": "fa8483c1",
   "metadata": {},
   "source": [
    "__2.__ Найти сумму и произведение матриц $A=\\begin{pmatrix}\n",
    "1 & -2\\\\ \n",
    "3 & 0\n",
    "\\end{pmatrix}$ и $B=\\begin{pmatrix}\n",
    "4 & -1\\\\ \n",
    "0 & 5\n",
    "\\end{pmatrix}.$"
   ]
  },
  {
   "cell_type": "markdown",
   "id": "35ee83a8",
   "metadata": {},
   "source": [
    "$A + B =$"
   ]
  },
  {
   "cell_type": "markdown",
   "id": "f964d8ad",
   "metadata": {},
   "source": [
    "$\\begin{pmatrix}\n",
    "5 & -3\\\\ \n",
    "3 & 5\n",
    "\\end{pmatrix}$"
   ]
  },
  {
   "cell_type": "markdown",
   "id": "ba84c1c0",
   "metadata": {},
   "source": [
    "$A * B =$"
   ]
  },
  {
   "cell_type": "markdown",
   "id": "d7d0759b",
   "metadata": {},
   "source": [
    "$\\begin{pmatrix}\n",
    "4 & -11\\\\ \n",
    "12 & -3\n",
    "\\end{pmatrix}$"
   ]
  },
  {
   "cell_type": "markdown",
   "id": "932b2e56",
   "metadata": {},
   "source": [
    "__3.__ Из закономерностей сложения и умножения матриц на число можно сделать вывод, что матрицы одного размера образуют линейное пространство. Вычислить линейную комбинацию $3A-2B+4C$ для матриц $A=\\begin{pmatrix}\n",
    "1 & 7\\\\ \n",
    "3 & -6\n",
    "\\end{pmatrix}$, $B=\\begin{pmatrix}\n",
    "0 & 5\\\\ \n",
    "2 & -1\n",
    "\\end{pmatrix}$, $C=\\begin{pmatrix}\n",
    "2 & -4\\\\ \n",
    "1 & 1\n",
    "\\end{pmatrix}.$"
   ]
  },
  {
   "cell_type": "markdown",
   "id": "09639ab1",
   "metadata": {},
   "source": [
    "$3A=:$"
   ]
  },
  {
   "cell_type": "markdown",
   "id": "56f2c0ed",
   "metadata": {},
   "source": [
    "$\\begin{pmatrix}\n",
    "3 & 21\\\\ \n",
    "9 & -18\n",
    "\\end{pmatrix}$"
   ]
  },
  {
   "cell_type": "markdown",
   "id": "cd18649d",
   "metadata": {},
   "source": [
    "$2B=:$"
   ]
  },
  {
   "cell_type": "markdown",
   "id": "42076c1b",
   "metadata": {},
   "source": [
    "$\\begin{pmatrix}\n",
    "0 & 10\\\\ \n",
    "4 & -2\n",
    "\\end{pmatrix}$"
   ]
  },
  {
   "cell_type": "markdown",
   "id": "2a972947",
   "metadata": {},
   "source": [
    "$4C=:$"
   ]
  },
  {
   "cell_type": "markdown",
   "id": "5cf8668b",
   "metadata": {},
   "source": [
    "$\\begin{pmatrix}\n",
    "8 & -16\\\\ \n",
    "4 & 4\n",
    "\\end{pmatrix}$"
   ]
  },
  {
   "cell_type": "markdown",
   "id": "f97984ab",
   "metadata": {},
   "source": [
    "$3A-2B+4C=$"
   ]
  },
  {
   "cell_type": "markdown",
   "id": "fb8cf6f2",
   "metadata": {},
   "source": [
    "$\\begin{pmatrix}\n",
    "11 & -5\\\\ \n",
    "9 & -12\n",
    "\\end{pmatrix}$"
   ]
  },
  {
   "cell_type": "code",
   "execution_count": 10,
   "id": "3f17af7e",
   "metadata": {},
   "outputs": [
    {
     "name": "stdout",
     "output_type": "stream",
     "text": [
      "Матрица A\n",
      "[[ 1  7]\n",
      " [ 3 -6]]\n",
      "Матрица B\n",
      "[[ 0  5]\n",
      " [ 2 -1]]\n",
      "Матрица C\n",
      "[[ 0  5]\n",
      " [ 2 -1]]\n",
      "Матрица 3A-2B+4C\n",
      "[[ 11  -5]\n",
      " [  9 -12]]\n"
     ]
    }
   ],
   "source": [
    "A = np.array([[1,7],[3,-6]])\n",
    "B = np.array([[0,5],[2,-1]])\n",
    "C = np.array([[2,-4],[1,1]])\n",
    "print(f'Матрица A\\n{A}')\n",
    "print(f'Матрица B\\n{B}')\n",
    "print(f'Матрица C\\n{B}')\n",
    "print(f'Матрица 3A-2B+4C\\n{3*A+(-2)*B+4*C}')"
   ]
  },
  {
   "cell_type": "markdown",
   "id": "76e1bd78",
   "metadata": {},
   "source": [
    "__4.__ Дана матрица $A=\\begin{pmatrix}\n",
    "4 & 1\\\\ \n",
    "5 & -2\\\\ \n",
    "2 & 3\n",
    "\\end{pmatrix}$.\n",
    "Вычислить $AA^{T}$ и $A^{T}A$."
   ]
  },
  {
   "cell_type": "code",
   "execution_count": 13,
   "id": "df482c65",
   "metadata": {},
   "outputs": [
    {
     "name": "stdout",
     "output_type": "stream",
     "text": [
      "Матрица:\n",
      "[[ 4  1]\n",
      " [ 5 -2]\n",
      " [ 2  3]]\n",
      "Транспонированная матрица:\n",
      "[[ 4  5  2]\n",
      " [ 1 -2  3]]\n",
      "матрица A*AT:\n",
      "[[17 18 11]\n",
      " [18 29  4]\n",
      " [11  4 13]]\n",
      "матрица AT*A:\n",
      "[[45  0]\n",
      " [ 0 14]]\n"
     ]
    }
   ],
   "source": [
    "A = np.array([[4,1],[5,-2],[2,3]])\n",
    "print(f'Матрица:\\n{A}')\n",
    "print(f'Транспонированная матрица:\\n{A.T}')\n",
    "print(f'матрица A*AT:\\n{np.dot(A,A.T)}')\n",
    "print(f'матрица AT*A:\\n{np.dot(A.T,A)}')"
   ]
  },
  {
   "cell_type": "markdown",
   "id": "56c961ff",
   "metadata": {},
   "source": [
    "__1.__ Вычислить определитель:\n",
    "\n",
    "   a)\n",
    "\n",
    "$$\\begin{vmatrix}\n",
    "sinx & -cosx\\\\ \n",
    "cosx & sinx\n",
    "\\end{vmatrix};$$\n",
    "\n",
    "   б)\n",
    "    \n",
    "$$\\begin{vmatrix}\n",
    "4 & 2 & 3\\\\ \n",
    "0 & 5 & 1\\\\ \n",
    "0 & 0 & 9\n",
    "\\end{vmatrix};$$\n",
    "    \n",
    "   в)\n",
    "\n",
    "$$\\begin{vmatrix}\n",
    "1 & 2 & 3\\\\ \n",
    "4 & 5 & 6\\\\ \n",
    "7 & 8 & 9\n",
    "\\end{vmatrix}.$$"
   ]
  },
  {
   "cell_type": "markdown",
   "id": "dd2562f9",
   "metadata": {},
   "source": [
    "a)$det(A)= sin^{2}(x)+ cos^{2}(x)$"
   ]
  },
  {
   "cell_type": "markdown",
   "id": "16961448",
   "metadata": {},
   "source": [
    "б)$det(A)= 180$"
   ]
  },
  {
   "cell_type": "markdown",
   "id": "bc777355",
   "metadata": {},
   "source": [
    "в)$det(A)= 0$"
   ]
  },
  {
   "cell_type": "markdown",
   "id": "09063eb2",
   "metadata": {},
   "source": [
    "__2.__ Определитель матрицы $A$ равен $4$. Найти:\n",
    "\n",
    "   а) $det(A^{2})$;\n",
    "    \n",
    "   б) $det(A^{T})$;\n",
    "    \n",
    "   в) $det(2A)$."
   ]
  },
  {
   "cell_type": "markdown",
   "id": "c0656ad6",
   "metadata": {},
   "source": [
    "$а)det(A^{2}) = det(A)*det(A)= 16;$\n",
    "\n",
    "$б)det(A^{Т}) = det(A)= 4;$\n",
    "\n",
    "$в)det(2A) = 2*det(A)= 8;$"
   ]
  },
  {
   "cell_type": "markdown",
   "id": "f2c6756a",
   "metadata": {},
   "source": [
    "__3.__  Доказать, что матрица\n",
    "\n",
    "$$\\begin{pmatrix}\n",
    "-2 & 7 & -3\\\\ \n",
    "4 & -14 & 6\\\\ \n",
    "-3 & 7 & 13\n",
    "\\end{pmatrix}$$\n",
    "   \n",
    "вырожденная."
   ]
  },
  {
   "cell_type": "markdown",
   "id": "7824a174",
   "metadata": {},
   "source": [
    "Найдем определитель:\n",
    "$$\\begin{vmatrix}\n",
    "-2 & 7 & -3\\\\ \n",
    "4 & -14 & 6\\\\ \n",
    "-3 & 7 & 13\n",
    "\\end{vmatrix}$$"
   ]
  },
  {
   "cell_type": "markdown",
   "id": "58b6b6fa",
   "metadata": {},
   "source": [
    "$𝑑𝑒𝑡(𝐴)=0$"
   ]
  },
  {
   "cell_type": "markdown",
   "id": "d65dbc67",
   "metadata": {},
   "source": [
    "Матрица является вырожденной."
   ]
  },
  {
   "cell_type": "markdown",
   "id": "5b2ce3ee",
   "metadata": {},
   "source": [
    "__4.__ Найти ранг матрицы:\n",
    "\n",
    "   а) $\\begin{pmatrix}\n",
    "1 & 2 & 3\\\\ \n",
    "1 & 1 & 1\\\\ \n",
    "2 & 3 & 4\n",
    "\\end{pmatrix};$"
   ]
  },
  {
   "cell_type": "markdown",
   "id": "208dfc78",
   "metadata": {},
   "source": [
    "Приведем матрицу к треугольному виду. Будем работать только со строками, так как умножение строки матрицы на число, отличное от нуля, и прибавление к другой строке для системы означает умножение уравнения на это же число и сложение с другим уравнением, что не меняет решения системы. "
   ]
  },
  {
   "cell_type": "markdown",
   "id": "a599070f",
   "metadata": {},
   "source": [
    "Умножим 1-ую строку на (-1). Добавим 2-ую строку к 1-ой: "
   ]
  },
  {
   "cell_type": "markdown",
   "id": "4d1a0c55",
   "metadata": {},
   "source": [
    "$\\begin{pmatrix}\n",
    "0 & -1 & -2\\\\ \n",
    "1 & 1 & 1\\\\ \n",
    "2 & 3 & 4\n",
    "\\end{pmatrix};$"
   ]
  },
  {
   "cell_type": "markdown",
   "id": "07f7e16c",
   "metadata": {},
   "source": [
    "Умножим 2-ую строку на (-2). Добавим 3-ую строку к 2-ой: "
   ]
  },
  {
   "cell_type": "markdown",
   "id": "10a55dc4",
   "metadata": {},
   "source": [
    "$\\begin{pmatrix}\n",
    "0 & -1 & -2\\\\ \n",
    "0 & 1 & 2\\\\ \n",
    "2 & 3 & 4\n",
    "\\end{pmatrix};$"
   ]
  },
  {
   "cell_type": "markdown",
   "id": "32a72f74",
   "metadata": {},
   "source": [
    "В матрице B 1-ая и 2-ая строки пропорциональны, следовательно, одну из них, например 1-ю, можно вычеркнуть. Это равносильно вычеркиванию 1-го уравнения системы, так как оно является следствием 2-го."
   ]
  },
  {
   "cell_type": "markdown",
   "id": "1120f3d9",
   "metadata": {},
   "source": [
    "Полученная матрица имеет размерность 2x3."
   ]
  },
  {
   "cell_type": "markdown",
   "id": "e9c1ded9",
   "metadata": {},
   "source": [
    "$\\begin{pmatrix}\n",
    "0 & 1 & 2\\\\ \n",
    "2 & 3 & 4 \n",
    "\\end{pmatrix};$"
   ]
  },
  {
   "cell_type": "markdown",
   "id": "67df9db1",
   "metadata": {},
   "source": [
    "Выделенный минор имеет наивысший порядок (из возможных миноров) и отличен от нуля (он равен произведению элементов, стоящих на обратной диагонали), следовательно rang(A) = 2"
   ]
  },
  {
   "cell_type": "markdown",
   "id": "7d47af89",
   "metadata": {},
   "source": [
    "б) $\\begin{pmatrix}\n",
    "0 & 0 & 2 & 1\\\\ \n",
    "0 & 0 & 2 & 2\\\\ \n",
    "0 & 0 & 4 & 3\\\\ \n",
    "2 & 3 & 5 & 6\n",
    "\\end{pmatrix}.$"
   ]
  },
  {
   "cell_type": "markdown",
   "id": "1f2736de",
   "metadata": {},
   "source": [
    "Приведем матрицу к треугольному виду. Будем работать только со строками, так как умножение строки матрицы на число, отличное от нуля, и прибавление к другой строке для системы означает умножение уравнения на это же число и сложение с другим уравнением, что не меняет решения системы. "
   ]
  },
  {
   "cell_type": "markdown",
   "id": "d11939c6",
   "metadata": {},
   "source": [
    "Умножим 1-ую строку на (-1). Добавим 2-ую строку к 1-ой: "
   ]
  },
  {
   "cell_type": "markdown",
   "id": "e7294fe8",
   "metadata": {},
   "source": [
    "$\\begin{pmatrix}\n",
    "0 & 0 & 0 & 1\\\\ \n",
    "0 & 0 & 2 & 2\\\\ \n",
    "0 & 0 & 4 & 3\\\\ \n",
    "2 & 3 & 5 & 6\n",
    "\\end{pmatrix}.$"
   ]
  },
  {
   "cell_type": "markdown",
   "id": "b5cff284",
   "metadata": {},
   "source": [
    "Выделенный минор имеет наивысший порядок (из возможных миноров) и отличен от нуля (он равен произведению элементов, стоящих на обратной диагонали), следовательно rang(A) = 4\n"
   ]
  },
  {
   "cell_type": "code",
   "execution_count": null,
   "id": "726b765f",
   "metadata": {},
   "outputs": [],
   "source": []
  }
 ],
 "metadata": {
  "kernelspec": {
   "display_name": "Python 3",
   "language": "python",
   "name": "python3"
  },
  "language_info": {
   "codemirror_mode": {
    "name": "ipython",
    "version": 3
   },
   "file_extension": ".py",
   "mimetype": "text/x-python",
   "name": "python",
   "nbconvert_exporter": "python",
   "pygments_lexer": "ipython3",
   "version": "3.8.8"
  }
 },
 "nbformat": 4,
 "nbformat_minor": 5
}
