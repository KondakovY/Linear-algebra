{
 "cells": [
  {
   "cell_type": "markdown",
   "id": "4cbc1dbc",
   "metadata": {},
   "source": [
    "__1.__ Исследовать на линейную зависимость:\n",
    "\n",
    "$$f_{1}(x)=e^{x}, f_{2}(x)=1, f_{3}(x)=x+1, f_{4}(x)=x-e^{x}.$$\n"
   ]
  },
  {
   "cell_type": "markdown",
   "id": "1a701754",
   "metadata": {},
   "source": [
    "$$f_{3}(x)=f_{2}(x)+x,$$"
   ]
  },
  {
   "cell_type": "markdown",
   "id": "77893041",
   "metadata": {},
   "source": [
    "Следовательно:"
   ]
  },
  {
   "cell_type": "markdown",
   "id": "b7fde298",
   "metadata": {},
   "source": [
    "$$x=f_{3}(x)-f_{2}(x),f_{4}(x)=f_{3}(x)-f_{2}(x)-f_{1}(x)$$"
   ]
  },
  {
   "cell_type": "markdown",
   "id": "3907354a",
   "metadata": {},
   "source": [
    "Вывод: один из векторов линейная комибнация остальных значит они линейно зависимы."
   ]
  },
  {
   "cell_type": "markdown",
   "id": "7324f7ea",
   "metadata": {},
   "source": [
    "__2.__ Исследовать на линейную зависимость:\n",
    "$$f_{1}(x)=2, f_{2}(x)=x, f_{3}(x)=x^{2}, f_{4}(x)=(x+1)^{2}$$"
   ]
  },
  {
   "cell_type": "markdown",
   "id": "0ffce2d5",
   "metadata": {},
   "source": [
    "$$f_{4}(x)=f_{3}(x)+2*f_{2}(x)+1/2*f_{1}(x)$$"
   ]
  },
  {
   "cell_type": "markdown",
   "id": "36033747",
   "metadata": {},
   "source": [
    "Вывод: один из векторов линейная комибнация остальных значит они линейно зависимы."
   ]
  },
  {
   "cell_type": "markdown",
   "id": "1c06b2e5",
   "metadata": {},
   "source": [
    "__3.__ Найти координаты вектора $x = (2, 3, 5)\\in \\mathbb{R}^{3}$ в базисе $b_{1}=(0, 0, 10)$, $b_{2}=(2, 0, 0)$, $b_{3}=(0, 1, 0)$.\n"
   ]
  },
  {
   "cell_type": "markdown",
   "id": "9b5c15e9",
   "metadata": {},
   "source": [
    "$x=1/2*b_{1}+b_{2}+3*b_{3}$"
   ]
  },
  {
   "cell_type": "markdown",
   "id": "3479bd19",
   "metadata": {},
   "source": [
    "__4.__ Найти координаты вектора $3x^{2}-2x+2\\in\\mathbb{R}^{3}[x]$:\n",
    "\n",
    "а) в базисе $1$, $x$, $x^{2}$;\n",
    "\n",
    "б) в базисе $x^{2}$, $x-1$, $1$."
   ]
  },
  {
   "cell_type": "markdown",
   "id": "bc1c9959",
   "metadata": {},
   "source": [
    "а)$x=2*b_{1}-2*b_{2}+3*b_{3}$"
   ]
  },
  {
   "cell_type": "markdown",
   "id": "aa21f82e",
   "metadata": {},
   "source": [
    "б)$x=3*b_{1}-2*b_{2}+b_{3}$"
   ]
  },
  {
   "cell_type": "markdown",
   "id": "51ab8dff",
   "metadata": {},
   "source": [
    "__5.__ Установить, является ли линейным подпространством:\n",
    "\n",
    "а) совокупность всех векторов трехмерного пространства, у которых по крайней мере одна из первых двух координат равна нулю;\n",
    "    \n",
    "б) все векторы, являющиеся линейными комбинациями данных векторов $\\{u_{1}, u_{2}, \\ldots, u_{n}\\}$."
   ]
  },
  {
   "cell_type": "markdown",
   "id": "6cd6bcf9",
   "metadata": {},
   "source": [
    "а)$(0,c,b)+(a,0,d)=(a,c,b+d)$"
   ]
  },
  {
   "cell_type": "markdown",
   "id": "b368db65",
   "metadata": {},
   "source": [
    "Вывод:полученные векторы уже не принадлежат указанному в задании множеству всех векторов"
   ]
  },
  {
   "cell_type": "markdown",
   "id": "03104a27",
   "metadata": {},
   "source": [
    "б)Вывод: если векторы являются линейнными комбинациями, значит они линейно зависимы и значит являются линейным подпространством"
   ]
  },
  {
   "cell_type": "code",
   "execution_count": 1,
   "id": "b033a13c",
   "metadata": {},
   "outputs": [],
   "source": [
    "import numpy as np\n",
    "from numpy.linalg import norm"
   ]
  },
  {
   "cell_type": "markdown",
   "id": "5b7b9150",
   "metadata": {},
   "source": [
    "__1.__ Найти скалярное произведение векторов $x, y \\in \\mathbb{R}$:<br>\n",
    "а) $x=(0,-3, 6),~y=(-4, 7, 9);$<br>"
   ]
  },
  {
   "cell_type": "code",
   "execution_count": 2,
   "id": "f35bf9d7",
   "metadata": {},
   "outputs": [
    {
     "name": "stdout",
     "output_type": "stream",
     "text": [
      "Скалярное произведение x и y:\n",
      "33\n"
     ]
    }
   ],
   "source": [
    "a = np.array([0, -3, 6])\n",
    "b = np.array([-4, 7, 9])\n",
    "print(f'Скалярное произведение x и y:\\n{np.dot(a, b)}')"
   ]
  },
  {
   "cell_type": "markdown",
   "id": "e9fe52ac",
   "metadata": {},
   "source": [
    "б) $x=(7, -4, 0, 1),~y=(-3, 1, 11, 2).$"
   ]
  },
  {
   "cell_type": "code",
   "execution_count": 3,
   "id": "2ac3b9af",
   "metadata": {},
   "outputs": [
    {
     "name": "stdout",
     "output_type": "stream",
     "text": [
      "Скалярное произведение x и y:\n",
      "-23\n"
     ]
    }
   ],
   "source": [
    "a = np.array([7, -4, 0, 1])\n",
    "b = np.array([-3, 1, 11, 2])\n",
    "print(f'Скалярное произведение x и y:\\n{np.dot(a, b)}')"
   ]
  },
  {
   "cell_type": "markdown",
   "id": "36f871e7",
   "metadata": {},
   "source": [
    "__2.__ Найти нормы векторов $(4, 2, 4)$ и $(12, 3, 4)$ и угол между ними."
   ]
  },
  {
   "cell_type": "markdown",
   "id": "7a5b4294",
   "metadata": {},
   "source": [
    "Скалярное произведение:\n",
    "$a*b = 4*12 + 2*3 + 4*4 = 70$"
   ]
  },
  {
   "cell_type": "markdown",
   "id": "ba63a539",
   "metadata": {},
   "source": [
    "Найдем норму вектора a:"
   ]
  },
  {
   "cell_type": "markdown",
   "id": "54f72798",
   "metadata": {},
   "source": [
    "|a| = 6"
   ]
  },
  {
   "cell_type": "markdown",
   "id": "56080438",
   "metadata": {},
   "source": [
    "Найдем модуль вектора b:"
   ]
  },
  {
   "cell_type": "markdown",
   "id": "24254d59",
   "metadata": {},
   "source": [
    "|b| = 13"
   ]
  },
  {
   "cell_type": "markdown",
   "id": "68777c64",
   "metadata": {},
   "source": [
    "Найдем угол между векторами:"
   ]
  },
  {
   "cell_type": "markdown",
   "id": "a9256592",
   "metadata": {},
   "source": [
    "cosγ = 70/(6*13) = 0.9"
   ]
  },
  {
   "cell_type": "markdown",
   "id": "511b2443",
   "metadata": {},
   "source": [
    "γ = arccos(0.9)=26.18°"
   ]
  },
  {
   "cell_type": "markdown",
   "id": "66ab116d",
   "metadata": {},
   "source": [
    "__3.__ Будет ли линейное пространство евклидовым, если за скалярное произведение принять:<br>\n",
    "а) произведение длин векторов;<br>\n",
    "б) утроенное обычное скалярное произведение векторов?<br>"
   ]
  },
  {
   "cell_type": "markdown",
   "id": "8a541c7f",
   "metadata": {},
   "source": [
    "__4.__ Какие из нижеперечисленных векторов образуют ортонормированный базис в линейном пространстве $\\mathbb{R}^{3}$:<br>\n",
    "а) $(1,0,0),(0,0,1);$ <br>\n",
    "б) $(1/\\sqrt{2},-1/\\sqrt{2},0),(1/\\sqrt{2},1/\\sqrt{2},0), (0,0,1);$<br>\n",
    "в) $(1/2, -1/2, 0), (0, 1/2, 1/2), (0,0,1);$<br>\n",
    "г) $(1,0,0),(0,1,0),(0,0,1)?$ \n"
   ]
  },
  {
   "cell_type": "markdown",
   "id": "cc3fdd86",
   "metadata": {},
   "source": [
    "а) Не образуют;\n",
    "б)Образуют;\n",
    "в)Образуют;\n",
    "г)Образуют;"
   ]
  },
  {
   "cell_type": "code",
   "execution_count": null,
   "id": "b6bdc48e",
   "metadata": {},
   "outputs": [],
   "source": []
  }
 ],
 "metadata": {
  "kernelspec": {
   "display_name": "Python 3",
   "language": "python",
   "name": "python3"
  },
  "language_info": {
   "codemirror_mode": {
    "name": "ipython",
    "version": 3
   },
   "file_extension": ".py",
   "mimetype": "text/x-python",
   "name": "python",
   "nbconvert_exporter": "python",
   "pygments_lexer": "ipython3",
   "version": "3.8.8"
  }
 },
 "nbformat": 4,
 "nbformat_minor": 5
}
