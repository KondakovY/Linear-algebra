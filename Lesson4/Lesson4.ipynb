{
 "cells": [
  {
   "cell_type": "markdown",
   "id": "de52d39b",
   "metadata": {},
   "source": [
    "__1.__ Решить систему уравнений методом Гаусса:\n",
    "\n",
    "$$\\begin{cases}\n",
    "x_{1}+x_{2}-x_{3}-2x_{4}=0, \\\\\n",
    "2x_{1}+x_{2}-x_{3}+x_{4}=-2, \\\\\n",
    "x_{1}+x_{2}-3x_{3}+x_{4}=4.\n",
    "\\end{cases}$$"
   ]
  },
  {
   "cell_type": "markdown",
   "id": "c02c0872",
   "metadata": {},
   "source": [
    "Умножим 1-ю строку на (2). Умножим 2-ю строку на (-1). Добавим 2-ю строку к 1-й: "
   ]
  },
  {
   "cell_type": "markdown",
   "id": "918f67c5",
   "metadata": {},
   "source": [
    "$$\\begin{pmatrix}\n",
    "\\left.\\begin{matrix}\n",
    "0 & 1 & -1 & -5\\\\ \n",
    "2 & 1 & -1 & 1\\\\ \n",
    "1 & 1 & -3 & 1\n",
    "\\end{matrix}\\right|\n",
    "\\begin{matrix}\n",
    "2\\\\ \n",
    "-2\\\\\n",
    "4\n",
    "\\end{matrix}\n",
    "\\end{pmatrix}$$"
   ]
  },
  {
   "cell_type": "markdown",
   "id": "c175e3d3",
   "metadata": {},
   "source": [
    "Умножим 3-ю строку на (-2). Добавим 3-ю строку к 2-й: "
   ]
  },
  {
   "cell_type": "markdown",
   "id": "fac3d358",
   "metadata": {},
   "source": [
    "$$\\begin{pmatrix}\n",
    "\\left.\\begin{matrix}\n",
    "0 & 1 & -1 & -5\\\\ \n",
    "0 & -1 & 5 & -1\\\\ \n",
    "1 & 1 & -3 & 1\n",
    "\\end{matrix}\\right|\n",
    "\\begin{matrix}\n",
    "2\\\\ \n",
    "-10\\\\\n",
    "4\n",
    "\\end{matrix}\n",
    "\\end{pmatrix}$$"
   ]
  },
  {
   "cell_type": "markdown",
   "id": "d587a4f6",
   "metadata": {},
   "source": [
    "Добавим 2-ю строку к 1-й"
   ]
  },
  {
   "cell_type": "markdown",
   "id": "3301964f",
   "metadata": {},
   "source": [
    "$$\\begin{pmatrix}\n",
    "\\left.\\begin{matrix}\n",
    "0 & 0 & 4 & -6\\\\ \n",
    "0 & -1 & 5 & -1\\\\ \n",
    "1 & 1 & -3 & 1\n",
    "\\end{matrix}\\right|\n",
    "\\begin{matrix}\n",
    "-8\\\\ \n",
    "-10\\\\\n",
    "4\n",
    "\\end{matrix}\n",
    "\\end{pmatrix}$$"
   ]
  },
  {
   "cell_type": "markdown",
   "id": "68060beb",
   "metadata": {},
   "source": [
    "Теперь исходную систему можно записать так:\n",
    "\n",
    "$$x_{3} = (-8 - ( - 6x_{4}))/4$$\n",
    "\n",
    "$$x_{2} = (-10 - (5x_{3} - x_{4}))/(-1)$$\n",
    "\n",
    "$$x_{1} = (4 - (x_{2} - 3x_{3} + x_{4}))/1$$"
   ]
  },
  {
   "cell_type": "markdown",
   "id": "93dc17c2",
   "metadata": {},
   "source": [
    "Необходимо переменную $x_{4}$ принять в качестве свободной переменной и через нее выразить остальные переменные.\n",
    "Приравняем переменную $x_{4}$ к 0:"
   ]
  },
  {
   "cell_type": "markdown",
   "id": "72c1a119",
   "metadata": {},
   "source": [
    "Из 1-й строки выражаем $x_{3}$:"
   ]
  },
  {
   "cell_type": "markdown",
   "id": "49c0f1fa",
   "metadata": {},
   "source": [
    "$x_{3}$ = -2"
   ]
  },
  {
   "cell_type": "markdown",
   "id": "5e1fcf74",
   "metadata": {},
   "source": [
    "Из 2-й строки выражаем $x_{2}$:"
   ]
  },
  {
   "cell_type": "markdown",
   "id": "77e3c777",
   "metadata": {},
   "source": [
    "$x_{2}$ = 0"
   ]
  },
  {
   "cell_type": "markdown",
   "id": "bb4a1330",
   "metadata": {},
   "source": [
    "Из 3-й строки выражаем $x_{1}$:"
   ]
  },
  {
   "cell_type": "markdown",
   "id": "a6867d3a",
   "metadata": {},
   "source": [
    "$x_{1}$ = -2"
   ]
  },
  {
   "cell_type": "markdown",
   "id": "6b33b567",
   "metadata": {},
   "source": [
    "__2.__ Проверить на совместность и выяснить, сколько решений будет иметь система линейных уравнений:\n",
    "\n",
    "   а) $\\begin{cases}\n",
    "3x_{1}-x_{2}+x_{3}=4, \\\\\n",
    "2x_{1}-5x_{2}-3x_{3}=-17, \\\\\n",
    "x_{1}+x_{2}-x_{3}=0;\n",
    "\\end{cases}$"
   ]
  },
  {
   "cell_type": "code",
   "execution_count": 1,
   "id": "5cc45a2d",
   "metadata": {},
   "outputs": [],
   "source": [
    "import numpy as np\n",
    "from numpy.linalg import norm"
   ]
  },
  {
   "cell_type": "code",
   "execution_count": 2,
   "id": "8e662822",
   "metadata": {},
   "outputs": [
    {
     "name": "stdout",
     "output_type": "stream",
     "text": [
      "Oпределители 32.0 32.0 64.00000000000003 95.99999999999999\n",
      "решение 1.0 2.000000000000001 2.9999999999999996\n"
     ]
    }
   ],
   "source": [
    "a = np.array([[3, -1, 1], [2, -5, -3], [1, 1, -1]])\n",
    "a1 = np.array([[4, -1, 1], [-17, -5, -3], [0, 1, -1]])\n",
    "a2 = np.array([[3, 4, 1], [2, -17, -3], [1, 0, -1]])\n",
    "a3 = np.array([[3, -1, 4], [2, -5, -17], [1, 1, 0]])\n",
    "det_a=np.linalg.det(a)\n",
    "det_a1=np.linalg.det(a1)\n",
    "det_a2=np.linalg.det(a2)\n",
    "det_a3=np.linalg.det(a3)\n",
    "print('Oпределители',det_a,det_a1,det_a2,det_a3)\n",
    "x1=det_a1/det_a\n",
    "x2=det_a2/det_a\n",
    "x3=det_a3/det_a\n",
    "print('решение',x1,x2,x3)"
   ]
  },
  {
   "cell_type": "markdown",
   "id": "c1d2994d",
   "metadata": {},
   "source": [
    "$x_{1}$ = 1; $x_{2}$ = 2; $x_{3}$ = 3"
   ]
  },
  {
   "cell_type": "markdown",
   "id": "c6ab8465",
   "metadata": {},
   "source": [
    "Система является совместной и определенной(имеет одно решение)"
   ]
  },
  {
   "cell_type": "markdown",
   "id": "d992a0eb",
   "metadata": {},
   "source": [
    "   б) $\\begin{cases}\n",
    "2x_{1}-4x_{2}+6x_{3}=1, \\\\\n",
    "x_{1}-2x_{2}+3x_{3}=-2, \\\\\n",
    "3x_{1}-6x_{2}+9x_{3}=5;\n",
    "\\end{cases}$\n"
   ]
  },
  {
   "cell_type": "markdown",
   "id": "70565a0d",
   "metadata": {},
   "source": [
    "Система не является совместной, решений нет."
   ]
  },
  {
   "cell_type": "markdown",
   "id": "caff8cde",
   "metadata": {},
   "source": [
    "   в) $\\begin{cases}\n",
    "x_{1}+2x_{2}+5x_{3}=4, \\\\\n",
    "3x_{1}+x_{2}-8x_{3}=-2. \n",
    "\\end{cases}$"
   ]
  },
  {
   "cell_type": "markdown",
   "id": "55301d4d",
   "metadata": {},
   "source": [
    "Поскольку ранг основной матрицы равен рангу расширенной, то система является совместной. Система является неопределенной, т.к. имеет более одного решения(придавая свободным неизвестным любые значения, получим сколько угодно частных решений).  "
   ]
  },
  {
   "cell_type": "markdown",
   "id": "59640690",
   "metadata": {},
   "source": [
    "__3.__ Проверить на совместность и выяснить, сколько решений будет иметь система линейных уравнений, заданная расширенной матрицей\n",
    "\n",
    "$$\\tilde{A}=\\begin{pmatrix}\n",
    "\\left.\\begin{matrix}\n",
    "1 & 3 & -2 & 4\\\\ \n",
    "0 & 5 & 0 & 1\\\\ \n",
    "0 & 0 & 3 & 0\\\\ \n",
    "0 & 0 & 0 & 2\n",
    "\\end{matrix}\\right|\n",
    "\\begin{matrix}\n",
    "3\\\\ \n",
    "2\\\\\n",
    "4\\\\\n",
    "1\n",
    "\\end{matrix}\n",
    "\\end{pmatrix}.$$"
   ]
  },
  {
   "cell_type": "markdown",
   "id": "e5119e53",
   "metadata": {},
   "source": [
    "Поскольку ранг основной матрицы равен рангу расширенной, то система является совместной. "
   ]
  },
  {
   "cell_type": "markdown",
   "id": "8b0b2cd6",
   "metadata": {},
   "source": [
    "2$x_{4}$ = 1\n",
    "\n",
    "3$x_{3}$ = 4\n",
    "\n",
    "5$x_{2}$ + $x_{4}$ = 2\n",
    "\n",
    "$x_{1}$ + 3$x_{2}$ - 2$x_{3}$ + 4$x_{4}$ = 3 "
   ]
  },
  {
   "cell_type": "markdown",
   "id": "27a0898a",
   "metadata": {},
   "source": [
    "Методом исключения неизвестных находим: "
   ]
  },
  {
   "cell_type": "markdown",
   "id": "8ab0ccda",
   "metadata": {},
   "source": [
    "$x_{4}$ = 1/2\n",
    "\n",
    "$x_{3}$ = 4/3\n",
    "\n",
    "$x_{2}$ = 3/10\n",
    "\n",
    "$x_{1}$ = 83/30 "
   ]
  },
  {
   "cell_type": "markdown",
   "id": "cd378a77",
   "metadata": {},
   "source": [
    "Система является определенной, т.к. имеет одно решение. "
   ]
  },
  {
   "cell_type": "markdown",
   "id": "8847a629",
   "metadata": {},
   "source": [
    "__4.__ Дана система линейных уравнений, заданная расширенной матрицей\n",
    "\n",
    "$$\\tilde{A}=\\begin{pmatrix}\n",
    "\\left.\\begin{matrix}\n",
    "1 & 2 & 3\\\\ \n",
    "4 & 5 & 6\\\\ \n",
    "7 & 8 & 9\n",
    "\\end{matrix}\\right|\n",
    "\\begin{matrix}\n",
    "a\\\\ \n",
    "b\\\\\n",
    "c\n",
    "\\end{matrix}\n",
    "\\end{pmatrix}.$$\n",
    "\n",
    "Найти соотношение между параметрами $a$, $b$ и $c$, при которых система является несовместной."
   ]
  },
  {
   "cell_type": "markdown",
   "id": "8b521438",
   "metadata": {},
   "source": [
    "Пробуем привести к ступенчатой форме и получим:"
   ]
  },
  {
   "cell_type": "markdown",
   "id": "77bf54c0",
   "metadata": {},
   "source": [
    "$$\\tilde{A}=\\begin{pmatrix}\n",
    "\\left.\\begin{matrix}\n",
    "1 & 2 & 3\\\\ \n",
    "2 & 1 & 0\\\\ \n",
    "0 & 0 & 0\n",
    "\\end{matrix}\\right|\n",
    "\\begin{matrix}\n",
    "a\\\\ \n",
    "b-2a\\\\\n",
    "c-3a-2c\n",
    "\\end{matrix}\n",
    "\\end{pmatrix}.$$"
   ]
  },
  {
   "cell_type": "markdown",
   "id": "ea9ea246",
   "metadata": {},
   "source": [
    "если $c-3a-2x!=0$, то система является несовместной"
   ]
  },
  {
   "cell_type": "markdown",
   "id": "d40ada4e",
   "metadata": {},
   "source": [
    "__1.__ Решить систему уравнений методом Крамера:\n",
    "\n",
    "   а) $\\begin{cases}\n",
    "x_{1}-2x_{2}=1 \\\\\n",
    "3x_{1}-4x_{2}=7\n",
    "\\end{cases}$\n"
   ]
  },
  {
   "cell_type": "code",
   "execution_count": 4,
   "id": "5a2f159f",
   "metadata": {},
   "outputs": [
    {
     "name": "stdout",
     "output_type": "stream",
     "text": [
      "Oпределители 2.0000000000000004 9.999999999999998 4.0\n",
      "Pешение 4.999999999999998 1.9999999999999996\n"
     ]
    }
   ],
   "source": [
    "a = np.array([[1, -2], [3, -4]])\n",
    "a1 = np.array([[1, -2], [7, -4]])\n",
    "a2 = np.array([[1, 1], [3, 7]])\n",
    "det_a=np.linalg.det(a)\n",
    "det_a1=np.linalg.det(a1)\n",
    "det_a2=np.linalg.det(a2)\n",
    "print('Oпределители',det_a,det_a1,det_a2)\n",
    "x1=det_a1/det_a\n",
    "x2=det_a2/det_a\n",
    "print('Pешение',x1,x2)"
   ]
  },
  {
   "cell_type": "markdown",
   "id": "9c1bf051",
   "metadata": {},
   "source": [
    "$x_{1}$ = 5\n",
    "\n",
    "$x_{2}$ = 2 "
   ]
  },
  {
   "cell_type": "markdown",
   "id": "fd0f4eb1",
   "metadata": {},
   "source": [
    "б) $\\begin{cases}\n",
    "2x_{1}-x_{2}+5x_{3}=10 \\\\\n",
    "x_{1}+x_{2}-3x_{3}=-2 \\\\\n",
    "2x_{1}+4x_{2}+x_{3}=1\n",
    "\\end{cases}$"
   ]
  },
  {
   "cell_type": "code",
   "execution_count": 5,
   "id": "278df85b",
   "metadata": {},
   "outputs": [
    {
     "name": "stdout",
     "output_type": "stream",
     "text": [
      "Oпределители 42.99999999999998 86.00000000000004 -43.000000000000014 42.99999999999998\n",
      "Pешение 2.0000000000000018 -1.0000000000000009 1.0\n"
     ]
    }
   ],
   "source": [
    "a = np.array([[2, -1, 5], [1, 1, -3], [2, 4, 1]])\n",
    "a1 = np.array([[10, -1, 5], [-2, 1, -3], [1, 4, 1]])\n",
    "a2 = np.array([[2, 10, 5], [1, -2, -3], [2, 1, 1]])\n",
    "a3 = np.array([[2, -1, 10], [1, 1, -2], [2, 4, 1]])\n",
    "det_a=np.linalg.det(a)\n",
    "det_a1=np.linalg.det(a1)\n",
    "det_a2=np.linalg.det(a2)\n",
    "det_a3=np.linalg.det(a3)\n",
    "print('Oпределители',det_a,det_a1,det_a2,det_a3)\n",
    "x1=det_a1/det_a\n",
    "x2=det_a2/det_a\n",
    "x3=det_a3/det_a\n",
    "print('Pешение',x1,x2,x3)"
   ]
  },
  {
   "cell_type": "markdown",
   "id": "89651f3d",
   "metadata": {},
   "source": [
    "$x_{1}$ = 2\n",
    "\n",
    "$x_{2}$ = -1\n",
    "\n",
    "$x_{3}$ = 1 "
   ]
  },
  {
   "cell_type": "markdown",
   "id": "93233eb9",
   "metadata": {},
   "source": [
    "__3*.__ Решить систему линейных уравнений методом $LU$-разложения\n",
    "\n",
    "$$\\begin{cases}\n",
    "2x_{1}+x_{2}+3x_{3}=1 \\\\\n",
    "11x_{1}+7x_{2}+5x_{3}=-6 \\\\\n",
    "9x_{1}+8x_{2}+4x_{3}=-5\n",
    "\\end{cases}$$"
   ]
  },
  {
   "cell_type": "markdown",
   "id": "37b2b6fd",
   "metadata": {},
   "source": [
    "$$\\tilde{A}=\\begin{pmatrix}\n",
    "\\left.\\begin{matrix}\n",
    "2 & 1 & 3\\\\ \n",
    "11 & 7 & 5\\\\ \n",
    "9 & 8 & 4\n",
    "\\end{matrix}\\right|\n",
    "\\begin{matrix}\n",
    "1\\\\ \n",
    "-6\\\\\n",
    "-5\n",
    "\\end{matrix}\n",
    "\\end{pmatrix}.$$"
   ]
  },
  {
   "cell_type": "markdown",
   "id": "2b7afa88",
   "metadata": {},
   "source": [
    "$$l_{21} = 11/2$$\n",
    "\n",
    "$$l_{31} = 9/2$$"
   ]
  },
  {
   "cell_type": "markdown",
   "id": "dad970c8",
   "metadata": {},
   "source": [
    "$$\\begin{pmatrix}\n",
    "2 & 1 & 3\\\\ \n",
    "0 & 3/2 & -23/2\\\\ \n",
    "0 & 7/2 & -19/2\n",
    "\\end{pmatrix}$$"
   ]
  },
  {
   "cell_type": "markdown",
   "id": "0742c071",
   "metadata": {},
   "source": [
    "$$b=\\begin{pmatrix}\n",
    "1 \\\\\n",
    "-23/2\\\\\n",
    "52/3\n",
    "\\end{pmatrix}$$"
   ]
  },
  {
   "cell_type": "markdown",
   "id": "68a326ee",
   "metadata": {},
   "source": [
    "$$L=\\begin{pmatrix}\n",
    "1 & 0 & 0\\\\ \n",
    "11/2 & 1 & 0\\\\ \n",
    "9/2 & 7/3 & 1\n",
    "\\end{pmatrix}$$"
   ]
  },
  {
   "cell_type": "markdown",
   "id": "1a16cc43",
   "metadata": {},
   "source": [
    "$$L_{y} = b$$"
   ]
  },
  {
   "cell_type": "markdown",
   "id": "fe26ecb9",
   "metadata": {},
   "source": [
    "$$\\begin{cases}\n",
    "y_{1} = 1 \\\\\n",
    "11/2y_{1}+y_{2}=-6 \\\\\n",
    "9/2y_{1}+7/3y_{2}+y_{3}=-5\n",
    "\\end{cases}$$"
   ]
  },
  {
   "cell_type": "markdown",
   "id": "2d6bde3d",
   "metadata": {},
   "source": [
    "$y_{1}$ = 1\n",
    "\n",
    "$y_{2}$ = -23/2\n",
    "\n",
    "$y_{3}$ = 52/3 "
   ]
  },
  {
   "cell_type": "markdown",
   "id": "74e055ed",
   "metadata": {},
   "source": [
    "$$U_{x} = y$$"
   ]
  },
  {
   "cell_type": "markdown",
   "id": "89f9bda1",
   "metadata": {},
   "source": [
    "$$\\begin{cases}\n",
    "2x_{1}+x_{2}+3x_{3}=1 \\\\\n",
    "3/2x_{2}-23/2x_{3}=-23/2 \\\\\n",
    "52/3x_{3}=52/3\n",
    "\\end{cases}$$"
   ]
  },
  {
   "cell_type": "markdown",
   "id": "5fde2f57",
   "metadata": {},
   "source": [
    "$x_{1}$ = -1\n",
    "\n",
    "$x_{2}$ = 0\n",
    "\n",
    "$x_{3}$ = 1"
   ]
  },
  {
   "cell_type": "code",
   "execution_count": null,
   "id": "4607e796",
   "metadata": {},
   "outputs": [],
   "source": []
  }
 ],
 "metadata": {
  "kernelspec": {
   "display_name": "Python 3",
   "language": "python",
   "name": "python3"
  },
  "language_info": {
   "codemirror_mode": {
    "name": "ipython",
    "version": 3
   },
   "file_extension": ".py",
   "mimetype": "text/x-python",
   "name": "python",
   "nbconvert_exporter": "python",
   "pygments_lexer": "ipython3",
   "version": "3.8.8"
  }
 },
 "nbformat": 4,
 "nbformat_minor": 5
}
