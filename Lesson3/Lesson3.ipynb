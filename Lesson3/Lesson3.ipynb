{
 "cells": [
  {
   "cell_type": "markdown",
   "id": "057f80f4",
   "metadata": {},
   "source": [
    "__1.__ Найти собственные векторы и собственные значения для линейного оператора, заданного матрицей\n",
    "\n",
    "$$A=\\begin{pmatrix}\n",
    "-1 & -6\\\\ \n",
    "2 & 6\n",
    "\\end{pmatrix}.$$"
   ]
  },
  {
   "cell_type": "code",
   "execution_count": 1,
   "id": "667b22e7",
   "metadata": {},
   "outputs": [
    {
     "name": "stdout",
     "output_type": "stream",
     "text": [
      "Собственные числа: [2. 3.]\n",
      "Собственные вектора: \n",
      "[[-0.89442719  0.83205029]\n",
      " [ 0.4472136  -0.5547002 ]]\n"
     ]
    }
   ],
   "source": [
    "import numpy as np\n",
    "\n",
    "a = np.array([[-1, -6], [2, 6]])\n",
    "w, v = np.linalg.eig(a)\n",
    "print(f'Собственные числа: {w}')\n",
    "print(f'Собственные вектора: \\n{v}')"
   ]
  },
  {
   "cell_type": "markdown",
   "id": "f356eb01",
   "metadata": {},
   "source": [
    "__2.__ Дан оператор поворота на 180 градусов, задаваемый матрицей \n",
    "\n",
    "$$A=\\begin{pmatrix}\n",
    "-1 & 0\\\\ \n",
    "0 & -1\n",
    "\\end{pmatrix}.$$\n",
    "\n",
    "Показать, что __любой__ вектор является для него собственным."
   ]
  },
  {
   "cell_type": "markdown",
   "id": "ff954d53",
   "metadata": {},
   "source": [
    "$$Ae_{1}=-1*e_{1}+0*e_{2}=-e_{1},$$\n",
    "$$Ae_{2}=0*e_{1}-1*e_{2}=-e_{2}.$$"
   ]
  },
  {
   "cell_type": "markdown",
   "id": "bc6d5fe5",
   "metadata": {},
   "source": [
    "Теперь найдем собственные значения линейного оператора, составив и решив характеристическое уравнение:"
   ]
  },
  {
   "cell_type": "markdown",
   "id": "31d2798f",
   "metadata": {},
   "source": [
    "$$\\begin{vmatrix}\n",
    "-1- λ & 0\\\\\n",
    "0 & -1 - λ\n",
    "\\end{vmatrix} = 0,$$\n",
    "    "
   ]
  },
  {
   "cell_type": "markdown",
   "id": "cf6b89cb",
   "metadata": {},
   "source": [
    "$$(-1-λ)(-1-λ)-0*0=0,$$\n",
    "$$(1+λ)^{2}=0,$$\n",
    "$$λ=-1.$$"
   ]
  },
  {
   "cell_type": "markdown",
   "id": "76fa02ba",
   "metadata": {},
   "source": [
    "Теперь найдем собственные векторы вида $\\begin{pmatrix}\n",
    "    x_{1}\\\\\n",
    "    x_{2}\n",
    "    \\end{pmatrix}$, подставив полученное собственное значение в выражение ${A}x=λx$:"
   ]
  },
  {
   "cell_type": "markdown",
   "id": "6cce99f6",
   "metadata": {},
   "source": [
    "$\\begin{pmatrix}\n",
    "-1 & 0\\\\\n",
    "0 & -1\n",
    "\\end{pmatrix}$ $\\begin{pmatrix}\n",
    "    x_{1}\\\\\n",
    "    x_{2}\n",
    "    \\end{pmatrix}$ = λ$\\begin{pmatrix}\n",
    "    x_{1}\\\\\n",
    "    x_{2}\n",
    "    \\end{pmatrix}$"
   ]
  },
  {
   "cell_type": "markdown",
   "id": "b8abbce4",
   "metadata": {},
   "source": [
    "Получим"
   ]
  },
  {
   "cell_type": "markdown",
   "id": "4b3096bc",
   "metadata": {},
   "source": [
    "$$\\begin{cases}\n",
    "-x_{1}+0*x_{2}= -x_{1},\\\\\n",
    "0*x_{1}-x_{2}= -x_{2}.\n",
    "\\end{cases}$$"
   ]
  },
  {
   "cell_type": "markdown",
   "id": "34e60ada",
   "metadata": {},
   "source": [
    "$$\\begin{cases}\n",
    "0= 0,\\\\\n",
    "0= 0.\n",
    "\\end{cases}$$"
   ]
  },
  {
   "cell_type": "markdown",
   "id": "3fe4aa78",
   "metadata": {},
   "source": [
    "Вывод: Любое $x_{1},x_{2}$ удовлетворяют условиям."
   ]
  },
  {
   "cell_type": "markdown",
   "id": "8a43549c",
   "metadata": {},
   "source": [
    "__3.__ Пусть линейный оператор задан матрицей\n",
    "\n",
    "$$A=\\begin{pmatrix}\n",
    "1 & 1\\\\ \n",
    "-1 & 3\n",
    "\\end{pmatrix}.$$\n",
    "\n",
    "Установить, является ли вектор $x=(1,1)$ собственным вектором этого линейного оператора."
   ]
  },
  {
   "cell_type": "code",
   "execution_count": 2,
   "id": "d83468fa",
   "metadata": {},
   "outputs": [
    {
     "name": "stdout",
     "output_type": "stream",
     "text": [
      "Собственные числа: [2.00000002 1.99999998]\n"
     ]
    }
   ],
   "source": [
    "a = np.array([[1, 1], [-1, 3]])\n",
    "w, v = np.linalg.eig(a)\n",
    "print(f'Собственные числа: {w}')"
   ]
  },
  {
   "cell_type": "markdown",
   "id": "ffb94518",
   "metadata": {},
   "source": [
    "Получим:"
   ]
  },
  {
   "cell_type": "markdown",
   "id": "893c170a",
   "metadata": {},
   "source": [
    "$$\\begin{cases}\n",
    "x_{1}+x_{2}= 2x_{1},\\\\\n",
    "-x_{1}+3x_{2}= 2x_{2}.\n",
    "\\end{cases}$$"
   ]
  },
  {
   "cell_type": "markdown",
   "id": "d695351a",
   "metadata": {},
   "source": [
    "$$\\begin{cases}\n",
    "x_{1}=x_{2},\\\\\n",
    "x_{1}= x_{2}.\n",
    "\\end{cases}$$"
   ]
  },
  {
   "cell_type": "markdown",
   "id": "f3dfecc1",
   "metadata": {},
   "source": [
    "Вывод: вектор (1,1) является собственным."
   ]
  },
  {
   "cell_type": "markdown",
   "id": "8df61aa8",
   "metadata": {},
   "source": [
    "**4.** Пусть линейный оператор задан матрицей\n",
    "\n",
    "$$A=\\begin{pmatrix} 0 & 3 & 0\\\\ 3 & 0 & 0\\\\ 0 & 0 & 3 \\end{pmatrix}.$$\n",
    "\n",
    "Установить, является ли вектор $x=(3, -3, -4)$ собственным вектором этого линейного оператора."
   ]
  },
  {
   "cell_type": "markdown",
   "id": "67e1f23f",
   "metadata": {},
   "source": [
    "Предположим, что вектор x является собственным вектором заданного линейного оператора, тогда должно существовать некоторое вещественное число λ при котором:"
   ]
  },
  {
   "cell_type": "markdown",
   "id": "98cf2eb6",
   "metadata": {},
   "source": [
    "$\\begin{pmatrix}\n",
    "0 & 3 & 0\\\\\n",
    "3 & 0 & 0\\\\\n",
    "0 & 0 & 3\n",
    "\\end{pmatrix}$ $\\begin{pmatrix}\n",
    "    3\\\\\n",
    "    -3\\\\\n",
    "    -4\n",
    "    \\end{pmatrix}$ = λ$\\begin{pmatrix}\n",
    "    3\\\\\n",
    "    -3\\\\\n",
    "    -4\n",
    "    \\end{pmatrix}$"
   ]
  },
  {
   "cell_type": "markdown",
   "id": "2db3a073",
   "metadata": {},
   "source": [
    "$$\\begin{cases}\n",
    "-9 = 2λ,\\\\\n",
    "9 = -3λ\\\\\n",
    "-12 = -4λ\n",
    "\\end{cases}$$"
   ]
  },
  {
   "cell_type": "markdown",
   "id": "c95db06b",
   "metadata": {},
   "source": [
    "Вывод: система не имеет решения, вектор не является собственным."
   ]
  },
  {
   "cell_type": "code",
   "execution_count": null,
   "id": "f4bdc8f1",
   "metadata": {},
   "outputs": [],
   "source": []
  }
 ],
 "metadata": {
  "kernelspec": {
   "display_name": "Python 3",
   "language": "python",
   "name": "python3"
  },
  "language_info": {
   "codemirror_mode": {
    "name": "ipython",
    "version": 3
   },
   "file_extension": ".py",
   "mimetype": "text/x-python",
   "name": "python",
   "nbconvert_exporter": "python",
   "pygments_lexer": "ipython3",
   "version": "3.8.8"
  }
 },
 "nbformat": 4,
 "nbformat_minor": 5
}
